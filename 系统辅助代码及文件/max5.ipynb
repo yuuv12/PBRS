{
 "cells": [
  {
   "cell_type": "code",
   "execution_count": 4,
   "metadata": {},
   "outputs": [],
   "source": [
    "import pandas as pd\n",
    "import numpy as np\n",
    "import os\n",
    "\n",
    "def max5(csv_path):\n",
    "    df = pd.read_csv(csv_path, index_col=0)\n",
    "    df.columns = [int(i) for i in df.columns]\n",
    "\n",
    "    df = df.apply(lambda x: x.nlargest(5).index, axis=0).transpose()\n",
    "    df.columns = [csv_path.split(\"_\")[0]+\"_\"+str(i) for i in range(1,6)]\n",
    "\n",
    "    \n",
    "    return df\n",
    "    \n",
    "\n",
    "ls = [i for i in os.listdir(\"./\") if i.endswith(\".csv\") and not i.startswith(\"Max5\")]\n",
    "ls1 = []\n",
    "\n",
    "for i in ls:\n",
    "    ls1.append(max5(i))\n",
    "\n",
    "df = pd.concat(ls1, axis=1)\n",
    "df.to_csv(\"Max5.csv\")\n"
   ]
  }
 ],
 "metadata": {
  "kernelspec": {
   "display_name": "base",
   "language": "python",
   "name": "python3"
  },
  "language_info": {
   "codemirror_mode": {
    "name": "ipython",
    "version": 3
   },
   "file_extension": ".py",
   "mimetype": "text/x-python",
   "name": "python",
   "nbconvert_exporter": "python",
   "pygments_lexer": "ipython3",
   "version": "3.10.9"
  }
 },
 "nbformat": 4,
 "nbformat_minor": 2
}
